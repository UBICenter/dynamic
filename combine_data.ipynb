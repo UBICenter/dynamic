{
 "cells": [
  {
   "cell_type": "markdown",
   "metadata": {},
   "source": [
    "# Effect of UBI on labor supply in OG-USA small open economy\n",
    "\n",
    "Testing the income effect.\n",
    "\n",
    "Goals:\n",
    "\n",
    "* What's the implied income effect when people get a \\$1,000-per-person-per-year UBI, in a small open economy?\n",
    "* How does this vary with frisch and epsilon?\n",
    "* How does this compare to microeconometric studies on the income effect?\n",
    "* How does it compare to other models like CBO and PWBM?\n",
    "* How does it vary with lifetime income level and age?\n",
    "\n",
    "Intermediate questions:\n",
    "* What is the range of the implied UBI based on its ETR effect? Is it roughly the `taxcalc`-supplied UBI value multiplied by the number of people per tax unit?\n",
    "* What's the overall labor response to the \\$1,000 UBI across lifetime income groups and age?\n",
    "\n",
    "## Setup"
   ]
  },
  {
   "cell_type": "code",
   "execution_count": 1,
   "metadata": {},
   "outputs": [],
   "source": [
    "import pandas as pd\n",
    "import numpy as np\n",
    "import ogusa\n",
    "import os\n",
    "import microdf as mdf"
   ]
  },
  {
   "cell_type": "code",
   "execution_count": 2,
   "metadata": {},
   "outputs": [],
   "source": [
    "PATH = 'default'\n",
    "SS_VARS_FILE = 'SS/SS_vars.pkl'\n",
    "base = pd.read_pickle(os.path.join(PATH, 'OUTPUT_BASELINE', SS_VARS_FILE))\n",
    "base_params = pd.read_pickle(os.path.join(PATH, 'OUTPUT_BASELINE/model_params.pkl'))\n",
    "reform = pd.read_pickle(os.path.join(PATH, 'OUTPUT_REFORM', SS_VARS_FILE))\n",
    "reform_params = pd.read_pickle(os.path.join(PATH, 'OUTPUT_REFORM/model_params.pkl'))"
   ]
  },
  {
   "cell_type": "markdown",
   "metadata": {},
   "source": [
    "## Utilities"
   ]
  },
  {
   "cell_type": "code",
   "execution_count": 3,
   "metadata": {},
   "outputs": [],
   "source": [
    "# Map each skill level to a printed value and its total population weight.\n",
    "# Un-nest lambdas.\n",
    "lambdas = [i[0] for i in base_params.lambdas.tolist()]\n",
    "# Create DataFrame.\n",
    "LIFETIME_INCOME_BUCKETS = ['0-25%', '25-50%', '50-70%', '70-80%', '80-90%',\n",
    "                           '90-99%', 'Top 1%']\n",
    "lifetime_income_map = pd.DataFrame({'skill': np.arange(7),\n",
    "                                    'lifetime_income_group': LIFETIME_INCOME_BUCKETS,\n",
    "                                    'lifetime_income_pop_share': lambdas})"
   ]
  },
  {
   "cell_type": "code",
   "execution_count": 4,
   "metadata": {},
   "outputs": [],
   "source": [
    "# Map each age to its population weight.\n",
    "omegas_ss = reform_params.omega[-1, :]  # Final time period.\n",
    "age_pop_map = pd.DataFrame({'age': np.arange(21, 101),\n",
    "                            'age_pop_share': omegas_ss})"
   ]
  },
  {
   "cell_type": "code",
   "execution_count": 5,
   "metadata": {},
   "outputs": [],
   "source": [
    "def age_skill_df(mats, colnames):\n",
    "    '''\n",
    "    Produces DataFrame by age and lifetime income group\n",
    "    based on 2d numpy arrays for a given value.\n",
    "    \n",
    "    Args:\n",
    "        mats: List of 2d JxS numpy array. Can also be a singleton.\n",
    "        colnames: List of column names the value should take.\n",
    "            Can also be a singleton.\n",
    "        \n",
    "    Returns:\n",
    "        DataFrame with columns for age, lifetime_income_group, and\n",
    "        <colnames>.\n",
    "    '''\n",
    "    # Make args lists if they're not already.\n",
    "    if type(mats) != list:\n",
    "        mats = [mats]\n",
    "        colnames = [colnames]\n",
    "    df_l = []\n",
    "    num = len(mats)\n",
    "    assert len(colnames) == num\n",
    "    for i in range(num):\n",
    "        # Melt and rename.\n",
    "        tmp = pd.DataFrame(mats[i]).reset_index().melt('index')\n",
    "        tmp.columns = ['age', 'skill', colnames[i]]\n",
    "        tmp.set_index(['age', 'skill'], inplace=True)\n",
    "        df_l.append(tmp)\n",
    "    # Merge all DataFrames.\n",
    "    df = pd.concat(df_l, axis=1).reset_index()\n",
    "    # Age starts at 21.\n",
    "    df.age += 21\n",
    "    # Map lifetime_income_group by skill index.\n",
    "    df = df.merge(lifetime_income_map, on='skill')\n",
    "    df = df.merge(age_pop_map, on='age')\n",
    "    # Population share for sj is the product.\n",
    "    df['pop_share'] = df.age_pop_share * df.lifetime_income_pop_share\n",
    "    return df.drop('skill', axis=1)"
   ]
  },
  {
   "cell_type": "markdown",
   "metadata": {},
   "source": [
    "## Create data"
   ]
  },
  {
   "cell_type": "markdown",
   "metadata": {},
   "source": [
    "### UBI amounts\n",
    "\n",
    "As implied through the ETR."
   ]
  },
  {
   "cell_type": "code",
   "execution_count": 6,
   "metadata": {},
   "outputs": [],
   "source": [
    "assert np.allclose(base['rss'], reform['rss'])\n",
    "assert np.allclose(base['wss'], reform['wss'])\n",
    "assert np.allclose(base['factor_ss'], reform['factor_ss'])"
   ]
  },
  {
   "cell_type": "markdown",
   "metadata": {},
   "source": [
    "Specifications can come from baseline."
   ]
  },
  {
   "cell_type": "code",
   "execution_count": 7,
   "metadata": {},
   "outputs": [],
   "source": [
    "p = ogusa.Specifications(baseline=True, time_path=False)"
   ]
  },
  {
   "cell_type": "code",
   "execution_count": 8,
   "metadata": {},
   "outputs": [],
   "source": [
    "etr_params_3D = np.tile(\n",
    "    np.reshape(reform_params.etr_params[-1, :, :],\n",
    "               (reform_params.S, 1, reform_params.etr_params.shape[2])),\n",
    "    (1, reform_params.J, 1))"
   ]
  },
  {
   "cell_type": "code",
   "execution_count": 9,
   "metadata": {},
   "outputs": [],
   "source": [
    "def net_tax(ss_vars, params, p):\n",
    "    '''\n",
    "    Calculates net tax amount for each sj, given steady-state variables,\n",
    "    except for ETR parameters which can diverge.\n",
    "    \n",
    "    Args:\n",
    "        ss_vars: Dict from a ss_vars.pkl.\n",
    "        params: params object containing etr_params.\n",
    "        p: ogusa.Specifications object.\n",
    "        \n",
    "    Returns:\n",
    "        sj numpy array representing the net tax.\n",
    "    '''\n",
    "    etr_params_3D = np.tile(\n",
    "        np.reshape(params.etr_params[-1, :, :],\n",
    "                   (params.S, 1, params.etr_params.shape[2])),\n",
    "        (1, params.J, 1))\n",
    "    return ogusa.tax.net_taxes(\n",
    "        r=ss_vars['rss'],\n",
    "        w=ss_vars['wss'], \n",
    "        b=ss_vars['bssmat_s'],\n",
    "        n=ss_vars['nssmat'],\n",
    "        bq=ss_vars['bqssmat'],  # Bequests received.\n",
    "        factor=ss_vars['factor_ss'],\n",
    "        tr=ss_vars['TR_ss'],\n",
    "        theta=ss_vars['theta'],\n",
    "        t=None,\n",
    "        j=None,\n",
    "        shift=False,\n",
    "        method='SS',\n",
    "        e=p.e,\n",
    "        etr_params=etr_params_3D,\n",
    "        p=p)"
   ]
  },
  {
   "cell_type": "code",
   "execution_count": 10,
   "metadata": {},
   "outputs": [],
   "source": [
    "# Calculate net tax for the baseline conditions,\n",
    "# varying only the ETR, which governs the UBI.\n",
    "net_tax_ubi = net_tax(base, reform_params, p)\n",
    "net_tax_base = net_tax(base, base_params, p)"
   ]
  },
  {
   "cell_type": "code",
   "execution_count": 11,
   "metadata": {},
   "outputs": [],
   "source": [
    "ubi = base['factor_ss'] * (net_tax_base - net_tax_ubi)"
   ]
  },
  {
   "cell_type": "markdown",
   "metadata": {},
   "source": [
    "### Percent change in income"
   ]
  },
  {
   "cell_type": "code",
   "execution_count": 12,
   "metadata": {},
   "outputs": [],
   "source": [
    "def y_aftertax(ss_vars, params, p):\n",
    "    # Should this use yss_before_tax_mat instead?\n",
    "    # What about bequests and government transfers received?\n",
    "    return (ss_vars['rss'] * ss_vars['bssmat_s'] + \n",
    "            ss_vars['wss'] * p.e * ss_vars['nssmat'] -\n",
    "            net_tax(ss_vars, params, p))"
   ]
  },
  {
   "cell_type": "code",
   "execution_count": 13,
   "metadata": {},
   "outputs": [],
   "source": [
    "y_aftertax_base = base['factor_ss'] * y_aftertax(base, base_params, p)"
   ]
  },
  {
   "cell_type": "markdown",
   "metadata": {},
   "source": [
    "### Combine into a `DataFrame`\n",
    "\n",
    "With one row per sj."
   ]
  },
  {
   "cell_type": "code",
   "execution_count": 14,
   "metadata": {},
   "outputs": [],
   "source": [
    "def calc_ratios(df):\n",
    "    # Calculate percentage change in after-tax income from UBI.\n",
    "    df['y_diff'] = df.ubi / df.y_aftertax_base\n",
    "    # Calculate percentage change in labor response and consumption.\n",
    "    df['n_diff'] = df.n_reform / df.n_base - 1\n",
    "    df['c_diff'] = df.c_reform / df.c_base - 1\n",
    "    # Calculate elasticity.\n",
    "    df['elasticity'] = df.n_diff / df.y_diff\n",
    "    df['elasticity_display'] = df.elasticity.round(2)\n",
    "    # Create variables for plotting.\n",
    "    df['y_diff_pct'] = (df.y_diff * 100).round(2)\n",
    "    df['n_diff_pct'] = (df.n_diff * 100).round(2)\n",
    "    df['c_diff_pct'] = (df.c_diff * 100).round(2)\n",
    "    df['ubi_print'] = df.ubi.round(0)"
   ]
  },
  {
   "cell_type": "code",
   "execution_count": 15,
   "metadata": {},
   "outputs": [],
   "source": [
    "sj = age_skill_df([y_aftertax_base, ubi, base['nssmat'], reform['nssmat'],\n",
    "                   base['cssmat'], reform['cssmat']],\n",
    "                   ['y_aftertax_base', 'ubi', 'n_base', 'n_reform',\n",
    "                    'c_base', 'c_reform'])\n",
    "calc_ratios(sj)"
   ]
  },
  {
   "cell_type": "markdown",
   "metadata": {},
   "source": [
    "### Aggregate by age and lifetime income\n",
    "\n",
    "Using `pop_share`."
   ]
  },
  {
   "cell_type": "code",
   "execution_count": 16,
   "metadata": {},
   "outputs": [],
   "source": [
    "SUM_VARS = ['ubi', 'y_aftertax_base', 'n_base', 'n_reform', 'c_base', 'c_reform']\n",
    "W_SUFFIX = '_w'\n",
    "S_W_SUFFIX = '_ws'\n",
    "J_W_SUFFIX = '_wj'\n",
    "sum_vars_w = [i + W_SUFFIX for i in SUM_VARS]\n",
    "sum_vars_s = [i + S_W_SUFFIX for i in SUM_VARS]\n",
    "sum_vars_j = [i + J_W_SUFFIX for i in SUM_VARS]\n",
    "mdf.add_weighted_metrics(sj, SUM_VARS, 'pop_share', divisor=1., suffix=W_SUFFIX)\n",
    "mdf.add_weighted_metrics(sj, SUM_VARS, 'age_pop_share', divisor=1., suffix=S_W_SUFFIX)\n",
    "mdf.add_weighted_metrics(sj, SUM_VARS, 'lifetime_income_pop_share', divisor=1., suffix=J_W_SUFFIX)\n",
    "# Aggregate.\n",
    "s = sj.groupby('age')[sum_vars_j].sum()\n",
    "j = sj.groupby('lifetime_income_group')[sum_vars_s].sum()\n",
    "m = pd.DataFrame(sj[sum_vars_w].sum()).transpose()\n",
    "# Remove _w suffix.\n",
    "s.columns = [i[:-3] for i in s.columns]\n",
    "j.columns = [i[:-3] for i in j.columns]\n",
    "m.columns = [i[:-2] for i in m.columns]\n",
    "calc_ratios(s)\n",
    "calc_ratios(j)\n",
    "calc_ratios(m)"
   ]
  },
  {
   "cell_type": "markdown",
   "metadata": {},
   "source": [
    "## Export"
   ]
  },
  {
   "cell_type": "code",
   "execution_count": 17,
   "metadata": {},
   "outputs": [],
   "source": [
    "sj.to_csv('sj.csv', index=False)\n",
    "s.reset_index().to_csv('s.csv', index=False)\n",
    "j.reset_index().to_csv('j.csv', index=False)\n",
    "m.reset_index().to_csv('m.csv', index=False)"
   ]
  },
  {
   "cell_type": "markdown",
   "metadata": {},
   "source": [
    "## Other exploratory\n",
    "\n",
    "Change between base and reform to `yss_before_tax` matches change to `nss` in the first period,\n",
    "diverges after that."
   ]
  },
  {
   "cell_type": "code",
   "execution_count": 18,
   "metadata": {},
   "outputs": [],
   "source": [
    "assert np.allclose(reform['yss_before_tax_mat'][0, :] /\n",
    "                   base['yss_before_tax_mat'][0, :],\n",
    "                   reform['nssmat'][0, :] /\n",
    "                   base['nssmat'][0, :])"
   ]
  },
  {
   "cell_type": "code",
   "execution_count": 19,
   "metadata": {},
   "outputs": [],
   "source": [
    "assert not np.allclose(reform['yss_before_tax_mat'][1:, :] /\n",
    "                       base['yss_before_tax_mat'][1:, :],\n",
    "                       reform['nssmat'][1:, :] /\n",
    "                       base['nssmat'][1:, :])"
   ]
  }
 ],
 "metadata": {
  "kernelspec": {
   "display_name": "Python 3",
   "language": "python",
   "name": "python3"
  },
  "language_info": {
   "codemirror_mode": {
    "name": "ipython",
    "version": 3
   },
   "file_extension": ".py",
   "mimetype": "text/x-python",
   "name": "python",
   "nbconvert_exporter": "python",
   "pygments_lexer": "ipython3",
   "version": "3.7.8"
  }
 },
 "nbformat": 4,
 "nbformat_minor": 4
}
